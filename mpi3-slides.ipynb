{
 "cells": [
  {
   "cell_type": "markdown",
   "metadata": {
    "slideshow": {
     "slide_type": "slide"
    }
   },
   "source": [
    "# Parallel computing with MPI-3 RMA and Julia\n",
    "\n",
    "<br/>\n",
    "### JuliaCon 2018\n",
    "<br/>\n",
    "[Bart Janssens](https://github.com/barche)"
   ]
  },
  {
   "cell_type": "markdown",
   "metadata": {
    "slideshow": {
     "slide_type": "slide"
    }
   },
   "source": [
    "## Bird's eye view\n",
    "\n",
    "1. Classic MPI message passing\n",
    "2. Native Julia parallelism\n",
    "3. MPI-3 one-sided \"Remote Memory Access\" (RMA)\n",
    "4. Applications:\n",
    "    - MPI Arrays\n",
    "    - Julia IO on MPI\n",
    "    - New clustermanager"
   ]
  },
  {
   "cell_type": "markdown",
   "metadata": {
    "slideshow": {
     "slide_type": "slide"
    }
   },
   "source": [
    "## The MPI way\n",
    "* MPI: Message passing interface\n",
    "* Original: **cooperative** communication\n",
    "\n",
    "|Rank 0|Rank 1|\n",
    "|---|---|---|\n",
    "|`Init()`|`Init()`|\n",
    "|`mymessage = \"Hi 1!\"`||\n",
    "|`Send(mymessage,1)`|`Recv(buffer)`|\n",
    "|`Finalize()`|`Finalize()`|\n",
    "\n"
   ]
  },
  {
   "cell_type": "markdown",
   "metadata": {
    "slideshow": {
     "slide_type": "subslide"
    }
   },
   "source": [
    "The same program is sent to all ranks (run with `mpirun -np 4 sendrecv.jl`)\n",
    "```julia\n",
    "using MPI\n",
    "\n",
    "MPI.Init()\n",
    "\n",
    "const comm = MPI.COMM_WORLD\n",
    "const rank = MPI.Comm_rank(comm)\n",
    "const tag = 0\n",
    "\n",
    "if rank == 0\n",
    "  msg = unsafe_wrap(Vector{UInt8},\"Hi 1!\")\n",
    "  println(\"Sending message from rank 0 to rank 1\")\n",
    "  MPI.Send(msg, 1, tag, comm)\n",
    "elseif rank == 1\n",
    "  rec_buf = fill(UInt8('a'), 10)\n",
    "  MPI.Recv!(rec_buf, 0, tag, comm)\n",
    "  println(\"Received message $(String(rec_buf)) from rank 0\")\n",
    "end\n",
    "\n",
    "println(\"Rank $rank is finalizing.\")\n",
    "MPI.Finalize()\n",
    "```"
   ]
  },
  {
   "cell_type": "code",
   "execution_count": null,
   "metadata": {},
   "outputs": [],
   "source": []
  }
 ],
 "metadata": {
  "celltoolbar": "Slideshow",
  "kernelspec": {
   "display_name": "Julia 0.7.0-beta2",
   "language": "julia",
   "name": "julia-0.7"
  },
  "language_info": {
   "file_extension": ".jl",
   "mimetype": "application/julia",
   "name": "julia",
   "version": "0.7.0"
  }
 },
 "nbformat": 4,
 "nbformat_minor": 2
}
